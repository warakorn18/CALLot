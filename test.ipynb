{
 "cells": [
  {
   "cell_type": "code",
   "execution_count": 12,
   "metadata": {},
   "outputs": [
    {
     "ename": "ImportError",
     "evalue": "cannot import name 'Defaults' from 'pymodbus.constants' (c:\\Users\\MTL80168\\AppData\\Local\\Programs\\Python\\Python311\\Lib\\site-packages\\pymodbus\\constants.py)",
     "output_type": "error",
     "traceback": [
      "\u001b[1;31m---------------------------------------------------------------------------\u001b[0m",
      "\u001b[1;31mImportError\u001b[0m                               Traceback (most recent call last)",
      "Cell \u001b[1;32mIn[12], line 2\u001b[0m\n\u001b[0;32m      1\u001b[0m \u001b[39m# Modbus client\u001b[39;00m\n\u001b[1;32m----> 2\u001b[0m \u001b[39mfrom\u001b[39;00m \u001b[39mpymodbus\u001b[39;00m\u001b[39m.\u001b[39;00m\u001b[39mclient\u001b[39;00m \u001b[39mimport\u001b[39;00m ModbusTcpClient \u001b[39mas\u001b[39;00m ModbusClient\n\u001b[0;32m      3\u001b[0m \u001b[39mfrom\u001b[39;00m \u001b[39mpymodbus\u001b[39;00m\u001b[39m.\u001b[39;00m\u001b[39mconstants\u001b[39;00m \u001b[39mimport\u001b[39;00m Endian\n\u001b[0;32m      4\u001b[0m \u001b[39mfrom\u001b[39;00m \u001b[39mpymodbus\u001b[39;00m\u001b[39m.\u001b[39;00m\u001b[39mpayload\u001b[39;00m \u001b[39mimport\u001b[39;00m BinaryPayloadBuilder\n",
      "File \u001b[1;32mc:\\Users\\MTL80168\\AppData\\Local\\Programs\\Python\\Python311\\Lib\\site-packages\\pymodbus\\client\\__init__.py:5\u001b[0m\n\u001b[0;32m      1\u001b[0m \u001b[39m\"\"\"Client.\u001b[39;00m\n\u001b[0;32m      2\u001b[0m \n\u001b[0;32m      3\u001b[0m \u001b[39mimport external classes, to make them easier to use:\u001b[39;00m\n\u001b[0;32m      4\u001b[0m \u001b[39m\"\"\"\u001b[39;00m\n\u001b[1;32m----> 5\u001b[0m \u001b[39mfrom\u001b[39;00m \u001b[39mpymodbus\u001b[39;00m\u001b[39m.\u001b[39;00m\u001b[39mclient\u001b[39;00m\u001b[39m.\u001b[39;00m\u001b[39mbase\u001b[39;00m \u001b[39mimport\u001b[39;00m ModbusBaseClient\n\u001b[0;32m      6\u001b[0m \u001b[39mfrom\u001b[39;00m \u001b[39mpymodbus\u001b[39;00m\u001b[39m.\u001b[39;00m\u001b[39mclient\u001b[39;00m\u001b[39m.\u001b[39;00m\u001b[39mserial\u001b[39;00m \u001b[39mimport\u001b[39;00m AsyncModbusSerialClient, ModbusSerialClient\n\u001b[0;32m      7\u001b[0m \u001b[39mfrom\u001b[39;00m \u001b[39mpymodbus\u001b[39;00m\u001b[39m.\u001b[39;00m\u001b[39mclient\u001b[39;00m\u001b[39m.\u001b[39;00m\u001b[39mtcp\u001b[39;00m \u001b[39mimport\u001b[39;00m AsyncModbusTcpClient, ModbusTcpClient\n",
      "File \u001b[1;32mc:\\Users\\MTL80168\\AppData\\Local\\Programs\\Python\\Python311\\Lib\\site-packages\\pymodbus\\client\\base.py:9\u001b[0m\n\u001b[0;32m      6\u001b[0m \u001b[39mimport\u001b[39;00m \u001b[39msocket\u001b[39;00m\n\u001b[0;32m      7\u001b[0m \u001b[39mfrom\u001b[39;00m \u001b[39mdataclasses\u001b[39;00m \u001b[39mimport\u001b[39;00m dataclass\n\u001b[1;32m----> 9\u001b[0m \u001b[39mfrom\u001b[39;00m \u001b[39mpymodbus\u001b[39;00m\u001b[39m.\u001b[39;00m\u001b[39mclient\u001b[39;00m\u001b[39m.\u001b[39;00m\u001b[39mmixin\u001b[39;00m \u001b[39mimport\u001b[39;00m ModbusClientMixin\n\u001b[0;32m     10\u001b[0m \u001b[39mfrom\u001b[39;00m \u001b[39mpymodbus\u001b[39;00m\u001b[39m.\u001b[39;00m\u001b[39mconstants\u001b[39;00m \u001b[39mimport\u001b[39;00m Defaults\n\u001b[0;32m     11\u001b[0m \u001b[39mfrom\u001b[39;00m \u001b[39mpymodbus\u001b[39;00m\u001b[39m.\u001b[39;00m\u001b[39mexceptions\u001b[39;00m \u001b[39mimport\u001b[39;00m ConnectionException, NotImplementedException\n",
      "File \u001b[1;32mc:\\Users\\MTL80168\\AppData\\Local\\Programs\\Python\\Python311\\Lib\\site-packages\\pymodbus\\client\\mixin.py:11\u001b[0m\n\u001b[0;32m      9\u001b[0m \u001b[39mimport\u001b[39;00m \u001b[39mpymodbus\u001b[39;00m\u001b[39m.\u001b[39;00m\u001b[39mregister_read_message\u001b[39;00m \u001b[39mas\u001b[39;00m \u001b[39mpdu_reg_read\u001b[39;00m\n\u001b[0;32m     10\u001b[0m \u001b[39mimport\u001b[39;00m \u001b[39mpymodbus\u001b[39;00m\u001b[39m.\u001b[39;00m\u001b[39mregister_write_message\u001b[39;00m \u001b[39mas\u001b[39;00m \u001b[39mpdu_req_write\u001b[39;00m\n\u001b[1;32m---> 11\u001b[0m \u001b[39mfrom\u001b[39;00m \u001b[39mpymodbus\u001b[39;00m\u001b[39m.\u001b[39;00m\u001b[39mconstants\u001b[39;00m \u001b[39mimport\u001b[39;00m Defaults\n\u001b[0;32m     12\u001b[0m \u001b[39mfrom\u001b[39;00m \u001b[39mpymodbus\u001b[39;00m\u001b[39m.\u001b[39;00m\u001b[39mpdu\u001b[39;00m \u001b[39mimport\u001b[39;00m ModbusRequest, ModbusResponse\n\u001b[0;32m     13\u001b[0m \u001b[39mfrom\u001b[39;00m \u001b[39mpymodbus\u001b[39;00m\u001b[39m.\u001b[39;00m\u001b[39mutilities\u001b[39;00m \u001b[39mimport\u001b[39;00m ModbusTransactionState\n",
      "\u001b[1;31mImportError\u001b[0m: cannot import name 'Defaults' from 'pymodbus.constants' (c:\\Users\\MTL80168\\AppData\\Local\\Programs\\Python\\Python311\\Lib\\site-packages\\pymodbus\\constants.py)"
     ]
    }
   ],
   "source": [
    "# Modbus client\n",
    "from pymodbus.client import ModbusTcpClient as ModbusClient\n",
    "from pymodbus.constants import Endian\n",
    "from pymodbus.payload import BinaryPayloadBuilder\n",
    "from pymodbus.payload import BinaryPayloadDecoder\n",
    "import time\n",
    "\n",
    "print('Start Modbus Client')\n",
    "client = ModbusClient(host='192.168.2.220', port=502) \n",
    "reg=0; address=0\n",
    "\n",
    "# initialize data\n",
    "data = [0.1,1.1,2.1,3.1,4.1]\n",
    "\n",
    "for i in range(10):\n",
    "   print('-'*5,'Cycle ',i,'-'*30)\n",
    "   time.sleep(1.0)\n",
    "\n",
    "   # increment data by one\n",
    "   for i,d in enumerate(data):\n",
    "      data[i] = d + 1\n",
    "\n",
    "   # write holding registers (40001 to 40005)\n",
    "   print('Write',data)\n",
    "   builder = BinaryPayloadBuilder(byteorder=Endian.Big,\\\n",
    "                                  wordorder=Endian.Little)\n",
    "   for d in data:\n",
    "      builder.add_16bit_int(int(d))\n",
    "   payload = builder.build()\n",
    "   result  = client.write_registers(int(reg), payload,\\\n",
    "              skip_encode=True, unit=int(address))\n",
    "\n",
    "   # read holding registers\n",
    "   rd = client.read_holding_registers(reg,len(data)).registers\n",
    "   print('Read',rd)\n",
    "\n",
    "client.close()"
   ]
  }
 ],
 "metadata": {
  "kernelspec": {
   "display_name": "Python 3",
   "language": "python",
   "name": "python3"
  },
  "language_info": {
   "codemirror_mode": {
    "name": "ipython",
    "version": 3
   },
   "file_extension": ".py",
   "mimetype": "text/x-python",
   "name": "python",
   "nbconvert_exporter": "python",
   "pygments_lexer": "ipython3",
   "version": "3.11.4"
  },
  "orig_nbformat": 4
 },
 "nbformat": 4,
 "nbformat_minor": 2
}
