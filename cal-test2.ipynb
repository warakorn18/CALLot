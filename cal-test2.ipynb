{
 "cells": [
  {
   "cell_type": "code",
   "execution_count": null,
   "metadata": {},
   "outputs": [],
   "source": [
    "import time\n",
    "try :\n",
    "    z = '1'\n",
    "    z1 = '1'\n",
    "    staus = True\n",
    "    a = 1\n",
    "    b = 1\n",
    "    while staus:\n",
    "        if staus == True:\n",
    "            \n",
    "            while True:\n",
    "                time.sleep(1)\n",
    "                x = input('>>>>>>>')\n",
    "                # x = 3\n",
    "                if x != z :\n",
    "                    print('Z1 >>',z)\n",
    "                    z = x\n",
    "                    print('Z1.1 >>',z)\n",
    "                    c = a + b\n",
    "                    # print(c)\n",
    "                    a = c   \n",
    "                    if c >= 3:\n",
    "                        print('333333333')\n",
    "                        print('Z2.1 >>',z1)\n",
    "                        print('Z2 >>',z)\n",
    "                        #Program_Cal()\n",
    "                        print('sec')\n",
    "                        c = 2\n",
    "                        print(c)\n",
    "                        break\n",
    "                    break\n",
    "                else:\n",
    "                    print('non')\n",
    "                    z1 = z\n",
    "            \n",
    "        else:\n",
    "            print('111111')\n",
    "\n",
    "except Exception as e:\n",
    "    print('>>>>>>>',e)"
   ]
  },
  {
   "cell_type": "code",
   "execution_count": 17,
   "metadata": {},
   "outputs": [
    {
     "name": "stdout",
     "output_type": "stream",
     "text": [
      "connect MySQL\n",
      "    1   2   3   4   5   6\n",
      "0  22  33  44  55  66  77\n",
      "0    77\n",
      "Name: 6, dtype: int64\n"
     ]
    }
   ],
   "source": [
    "import pandas as pd\n",
    "connection = psycopg2.connect(user=\"admin\",\n",
    "                                  password=\"Ab123456\",\n",
    "                                  host=\"191.191.2.197\",\n",
    "                                  port=\"5432\",\n",
    "                                  database=\"Totle-2nd-Mask\")\n",
    "print(\"connect MySQL\")\n",
    "mycox = connection.cursor()\n",
    "mycox.execute(\"select * from twomask_cpk;\")\n",
    "records = mycox.fetchall()\n",
    "df = pd.DataFrame(records)\n",
    "\n",
    "df.drop([0], axis=1, inplace=True)\n",
    "\n",
    "df.to_csv(\"a.csv\",index=False)\n",
    "\n",
    "rd = pd.read_csv(\"a.csv\",index_col=False)\n",
    "rd.reset_index(drop=True)\n",
    "# x = input('>>>>')\n",
    "# rd = rd.loc[rd['5'] == x]\n",
    "    # rd = rd.reset_index()\n",
    "print(rd)"
   ]
  }
 ],
 "metadata": {
  "kernelspec": {
   "display_name": "Python 3",
   "language": "python",
   "name": "python3"
  },
  "language_info": {
   "codemirror_mode": {
    "name": "ipython",
    "version": 3
   },
   "file_extension": ".py",
   "mimetype": "text/x-python",
   "name": "python",
   "nbconvert_exporter": "python",
   "pygments_lexer": "ipython3",
   "version": "3.11.4"
  },
  "orig_nbformat": 4
 },
 "nbformat": 4,
 "nbformat_minor": 2
}
